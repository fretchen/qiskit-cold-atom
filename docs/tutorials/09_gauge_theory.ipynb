{
 "cells": [
  {
   "cell_type": "markdown",
   "id": "0870be4b-037a-46d4-b155-bd1baf5e3bde",
   "metadata": {},
   "source": [
    "## Implementing local gauge invariance with atomic mixtures.\n",
    "\n",
    "This Notebook is based on the following [paper](https://science.sciencemag.org/content/367/6482/1128), which was performed on the NaLi machine at SynQS. In this paper a new scalable analog quantum simulator of a U(1) gauge theory is demonstrated. \n",
    "\n",
    "By using interspecies spin-changing collisions between particles, a gauge-invariant interaction between matter and gauge-field is achieved. In this case an atomic mixture of sodium and lithium is used.\n",
    "\n",
    "We will model the system with two qudits of slightly different length. The first qudit is the matter field and the second qudit the gauge field.\n"
   ]
  },
  {
   "cell_type": "code",
   "execution_count": 1,
   "id": "e150c4ef-b3dc-4388-8883-d9f76ad1de62",
   "metadata": {},
   "outputs": [],
   "source": [
    "import numpy as np\n",
    "import matplotlib.pyplot as plt"
   ]
  },
  {
   "cell_type": "markdown",
   "id": "8988bd1a-d5ee-4293-80f6-64656f1de552",
   "metadata": {
    "tags": []
   },
   "source": [
    "# Rotating the matter field\n",
    "\n",
    "we have to rotate the matter field to initialize the dynamics in the system first"
   ]
  },
  {
   "cell_type": "code",
   "execution_count": 2,
   "id": "b5dcd73f-f62e-449c-b2d4-67e5e5b251c9",
   "metadata": {},
   "outputs": [],
   "source": [
    "from qiskit_cold_atom.providers import ColdAtomProvider\n",
    "from qiskit.circuit import Parameter\n",
    "from qiskit import QuantumCircuit"
   ]
  },
  {
   "cell_type": "code",
   "execution_count": 3,
   "id": "c26547e7-804f-4f86-8224-6390a13d56cf",
   "metadata": {},
   "outputs": [],
   "source": [
    "provider = ColdAtomProvider()\n",
    "backend = provider.get_backend(\"collective_spin_simulator\")"
   ]
  },
  {
   "cell_type": "code",
   "execution_count": 4,
   "id": "d2949ebb-c40c-4e9f-84ae-7a77d3980708",
   "metadata": {},
   "outputs": [
    {
     "data": {
      "image/png": "[encoded data removed]",
      "text/plain": [
       "<Figure size 357.679x204.68 with 1 Axes>"
      ]
     },
     "execution_count": 4,
     "metadata": {},
     "output_type": "execute_result"
    }
   ],
   "source": [
    "# sample at 50 angles between 0 and pi\n",
    "spin =4\n",
    "vals = 50\n",
    "angles = np.linspace(0, np.pi, vals)\n",
    "\n",
    "omega = Parameter(\"omega\")\n",
    "\n",
    "qc = QuantumCircuit(2)\n",
    "qc.rlx(omega, [0])\n",
    "qc.measure_all()\n",
    "\n",
    "qc.draw('mpl')"
   ]
  },
  {
   "cell_type": "markdown",
   "id": "33fabaa0-a027-4af8-a054-642b52787a1d",
   "metadata": {},
   "source": [
    "and send the full circuit to the backend"
   ]
  },
  {
   "cell_type": "code",
   "execution_count": 5,
   "id": "12535028-de9e-40ab-b6eb-b9a492b2d6fb",
   "metadata": {},
   "outputs": [],
   "source": [
    "Nshots = 150;\n",
    "rabi_list = [qc.bind_parameters([angle]) for angle in angles]\n",
    "\n",
    "job_rabi = backend.run(rabi_list, shots = Nshots, spin = spin, seed=5462)\n",
    "result_rabi = job_rabi.result()"
   ]
  },
  {
   "cell_type": "code",
   "execution_count": 6,
   "id": "d82413f1-180f-4c9f-b40c-8d16cc559bd1",
   "metadata": {},
   "outputs": [],
   "source": [
    "na_outcomes = np.zeros((Nshots,vals))\n",
    "li_outcomes = np.zeros((Nshots,vals))\n",
    "\n",
    "for ii in range(vals):\n",
    "    res_array = result_rabi.get_memory(ii)\n",
    "    for jj in range(Nshots):\n",
    "        li_outcomes[jj,ii], na_outcomes[jj,ii]  = np.array(res_array[jj].split(' '), dtype=int)"
   ]
  },
  {
   "cell_type": "code",
   "execution_count": 7,
   "id": "cb8ee655-1eaa-49ff-85e3-595227ac75d3",
   "metadata": {},
   "outputs": [
    {
     "data": {
      "text/plain": [
       "<matplotlib.legend.Legend at 0x7f88f4c68550>"
      ]
     },
     "execution_count": 7,
     "metadata": {},
     "output_type": "execute_result"
    },
    {
     "data": {
      "image/png": "[encoded data removed]",
      "text/plain": [
       "<Figure size 432x288 with 1 Axes>"
      ]
     },
     "metadata": {
      "needs_background": "light"
     },
     "output_type": "display_data"
    }
   ],
   "source": [
    "f, ax = plt.subplots()\n",
    "ax.errorbar(angles, np.mean(na_outcomes, axis=0), yerr=np.std(na_outcomes, axis=0), fmt='o', label='matter field')\n",
    "ax.errorbar(angles, np.mean(li_outcomes, axis=0), yerr=np.std(li_outcomes, axis=0), fmt='o', label='gauge field')\n",
    "\n",
    "ax.set_ylabel(r'$\\eta$')\n",
    "ax.set_xlabel(r'$\\varphi$')\n",
    "ax.legend()"
   ]
  },
  {
   "cell_type": "markdown",
   "id": "6b57ef85-4769-4478-8386-9fa62d3c28fa",
   "metadata": {},
   "source": [
    "# Dynamics \n",
    "\n",
    "The preparation of the matter field is not the only thing, we also have to let the system evolve under the appropiate Hamiltonian."
   ]
  },
  {
   "cell_type": "code",
   "execution_count": 8,
   "id": "45e972e9-93e2-4ac0-838f-869aca588ca5",
   "metadata": {},
   "outputs": [],
   "source": [
    "from qiskit_cold_atom.providers import ColdAtomProvider\n",
    "\n",
    "provider = ColdAtomProvider()"
   ]
  },
  {
   "cell_type": "code",
   "execution_count": 9,
   "id": "7429ca42-fcae-4f55-b21a-7e2c88938433",
   "metadata": {},
   "outputs": [],
   "source": [
    "provider = ColdAtomProvider()\n",
    "backend = provider.get_backend(\"collective_spin_simulator\")"
   ]
  },
  {
   "cell_type": "code",
   "execution_count": 10,
   "id": "fac2d2f5-44c6-4595-9b5b-b9937b539a75",
   "metadata": {},
   "outputs": [],
   "source": [
    "Delta = -2*np.pi*500;\n",
    "chiT = 2.*np.pi*0.01*300e3;\n",
    "lamT = 2.*np.pi*2e-4*300e3;#lamT = 2.*np.pi*2e-5*300e3;"
   ]
  },
  {
   "cell_type": "code",
   "execution_count": 11,
   "id": "7aa5d4f5-8225-42e1-bce4-49d6c585339c",
   "metadata": {},
   "outputs": [],
   "source": [
    "NNa = 5;\n",
    "\n",
    "# initial rotation of the matter field\n",
    "alpha = np.pi/2;\n",
    "chi = chiT/NNa;\n",
    "lam = lamT/NNa;"
   ]
  },
  {
   "cell_type": "code",
   "execution_count": 12,
   "id": "43fbe0f6-22d1-45a8-b79f-c68b8e8d583c",
   "metadata": {},
   "outputs": [],
   "source": [
    "import numpy as np\n",
    "\n",
    "#time = Parameter(\"time\")\n",
    "time = 1e-3;\n",
    "\n",
    "alpha = np.pi/2;\n",
    "\n",
    "qc = QuantumCircuit(2)\n",
    "qc.rlx(alpha, [0])\n",
    "\n",
    "qc.barrier()\n",
    "qc.rlz2(chi*time, [0])\n",
    "qc.rlz(Delta*time, [1])\n",
    "qc.rlxly(lam*time, [0, 1])\n",
    "qc.measure_all()"
   ]
  },
  {
   "cell_type": "code",
   "execution_count": 13,
   "id": "422d853c-f934-4a10-9e97-a540905cde9f",
   "metadata": {},
   "outputs": [
    {
     "data": {
      "image/png": "[encoded data removed]",
      "text/plain": [
       "<Figure size 598.479x204.68 with 1 Axes>"
      ]
     },
     "execution_count": 13,
     "metadata": {},
     "output_type": "execute_result"
    }
   ],
   "source": [
    "qc.draw('mpl')"
   ]
  },
  {
   "cell_type": "code",
   "execution_count": 14,
   "id": "a315c6f3-d805-4d6e-b413-0d05aac1c26c",
   "metadata": {},
   "outputs": [],
   "source": [
    "Ntimes = 20;\n",
    "tlin = np.linspace(0,30,Ntimes)*1e-3;\n",
    "memory_list = []\n",
    "for ii in range(Ntimes):\n",
    "    time = tlin[ii];\n",
    "    alpha = np.pi/2;\n",
    "    \n",
    "    qc = QuantumCircuit(2)\n",
    "    qc.rlx(alpha, [0])\n",
    "\n",
    "    qc.barrier()\n",
    "    qc.rlz2(chi*time, [0])\n",
    "    qc.rlz(Delta*time, [1])\n",
    "    qc.rlxly(lam*time, [0, 1])\n",
    "    qc.measure_all()\n",
    "    job = backend.run(qc, shots = Nshots, spin = NNa/2, seed=5462)\n",
    "    result = job.result()\n",
    "    memory_list.append(result.get_memory())"
   ]
  },
  {
   "cell_type": "code",
   "execution_count": 15,
   "id": "ec766ed0-340e-4f69-b628-aa2ad512e4bd",
   "metadata": {},
   "outputs": [],
   "source": [
    "na_outcomes = np.zeros((Nshots,Ntimes))\n",
    "li_outcomes = np.zeros((Nshots,Ntimes))\n",
    "\n",
    "for ii in range(Ntimes):\n",
    "    res_array = memory_list[ii]\n",
    "    for jj in range(Nshots):\n",
    "        li_outcomes[jj,ii], na_outcomes[jj,ii]  = np.array(res_array[jj].split(' '), dtype=int)"
   ]
  },
  {
   "cell_type": "code",
   "execution_count": 16,
   "id": "5492f53b-4dec-4b00-9b92-b5fe9eb610a5",
   "metadata": {},
   "outputs": [
    {
     "data": {
      "text/plain": [
       "<matplotlib.legend.Legend at 0x7f88e01ce1c0>"
      ]
     },
     "execution_count": 16,
     "metadata": {},
     "output_type": "execute_result"
    },
    {
     "data": {
      "image/png": "[encoded data removed]",
      "text/plain": [
       "<Figure size 432x288 with 1 Axes>"
      ]
     },
     "metadata": {
      "needs_background": "light"
     },
     "output_type": "display_data"
    }
   ],
   "source": [
    "f, ax = plt.subplots()\n",
    "ax.errorbar(tlin*1e3, np.mean(na_outcomes, axis=0), yerr=np.std(na_outcomes, axis=0), fmt='o', label='matter field')\n",
    "ax.errorbar(tlin*1e3, np.mean(li_outcomes, axis=0), yerr=np.std(li_outcomes, axis=0), fmt='o', label='gauge field')\n",
    "\n",
    "ax.set_ylabel(r'$\\eta$')\n",
    "ax.set_xlabel(r'time (ms)')\n",
    "ax.legend()"
   ]
  },
  {
   "cell_type": "markdown",
   "id": "a0177ebe-3d5e-4a1f-97f6-0f6b86e3c175",
   "metadata": {},
   "source": [
    "# Now on the remote device"
   ]
  },
  {
   "cell_type": "code",
   "execution_count": 17,
   "id": "e2832a85-e9f9-4d95-a451-f276280a485a",
   "metadata": {},
   "outputs": [],
   "source": [
    "from qiskit_cold_atom.providers import ColdAtomProvider\n",
    "from qiskit.circuit import Parameter\n",
    "from qiskit import QuantumCircuit"
   ]
  },
  {
   "cell_type": "code",
   "execution_count": 19,
   "id": "19d5fe4a-a5ae-4e05-9a2b-071d99b67e66",
   "metadata": {},
   "outputs": [
    {
     "name": "stdout",
     "output_type": "stream",
     "text": [
      "['rlx', 'rlz', 'rlz2', 'rlxly', 'barrier', 'measure', 'load']\n"
     ]
    }
   ],
   "source": [
    "provider = ColdAtomProvider.load_account()\n",
    "\n",
    "spin_device_backend = provider.get_backend(\"synqs_multi_qudit_simulator\")\n",
    "print(spin_device_backend.configuration().supported_instructions)"
   ]
  },
  {
   "cell_type": "code",
   "execution_count": 20,
   "id": "8b44648d-6b1d-4a0f-b65d-8b635850fb07",
   "metadata": {},
   "outputs": [
    {
     "data": {
      "image/png": "[encoded data removed]",
      "text/plain": [
       "<Figure size 417.879x204.68 with 1 Axes>"
      ]
     },
     "execution_count": 20,
     "metadata": {},
     "output_type": "execute_result"
    }
   ],
   "source": [
    "# sample at 50 angles between 0 and pi\n",
    "NNa = 10; # number of atoms in sodium\n",
    "NLi = 1; # number of atoms in lithium\n",
    "\n",
    "vals = 15\n",
    "angles = np.linspace(0, np.pi, vals)\n",
    "\n",
    "omega = Parameter(\"omega\")\n",
    "\n",
    "qc = QuantumCircuit(2)\n",
    "qc.load_spins(NNa, 0)\n",
    "qc.load_spins(NLi, 1)\n",
    "qc.rlx(omega, [0])\n",
    "qc.measure_all()\n",
    "\n",
    "qc.draw('mpl')"
   ]
  },
  {
   "cell_type": "markdown",
   "id": "fd540229-403e-4757-a754-6df14f427d5d",
   "metadata": {},
   "source": [
    "and send the full circuit to the backend"
   ]
  },
  {
   "cell_type": "code",
   "execution_count": 21,
   "id": "e54cd2a7-a724-49d4-b8d6-3fe3e437cee4",
   "metadata": {},
   "outputs": [],
   "source": [
    "Nshots = 150;\n",
    "rabi_list = [qc.bind_parameters([angle]) for angle in angles]\n",
    "job_rabi = spin_device_backend.run(rabi_list, shots = Nshots)\n"
   ]
  },
  {
   "cell_type": "code",
   "execution_count": 22,
   "id": "0dac3982-79ae-4eed-9e23-f655240bdc49",
   "metadata": {},
   "outputs": [
    {
     "name": "stdout",
     "output_type": "stream",
     "text": [
      "job status:  JobStatus.INITIALIZING\n"
     ]
    }
   ],
   "source": [
    "job_retrieved = spin_device_backend.retrieve_job(job_id=job_rabi.job_id())\n",
    "\n",
    "print(\"job status: \", job_retrieved.status())"
   ]
  },
  {
   "cell_type": "code",
   "execution_count": 23,
   "id": "725970fb-0fa4-4999-8564-0471b23591ab",
   "metadata": {},
   "outputs": [],
   "source": [
    "result_rabi = job_retrieved.result()"
   ]
  },
  {
   "cell_type": "code",
   "execution_count": 24,
   "id": "98ae951c-1f3e-4889-9a01-16143fe9fdb7",
   "metadata": {},
   "outputs": [],
   "source": [
    "na_outcomes = np.zeros((Nshots,vals))\n",
    "li_outcomes = np.zeros((Nshots,vals))\n",
    "\n",
    "for ii in range(vals):\n",
    "    res_array = result_rabi.get_memory(ii)\n",
    "    for jj in range(Nshots):\n",
    "        li_outcomes[jj,ii], na_outcomes[jj,ii]  = np.array(res_array[jj].split(' '), dtype=int)"
   ]
  },
  {
   "cell_type": "code",
   "execution_count": 25,
   "id": "e3cacfc3-31a5-40f3-96c7-2ca0fdff81a9",
   "metadata": {},
   "outputs": [
    {
     "data": {
      "text/plain": [
       "<matplotlib.legend.Legend at 0x7f88f4d48550>"
      ]
     },
     "execution_count": 25,
     "metadata": {},
     "output_type": "execute_result"
    },
    {
     "data": {
      "image/png": "[encoded data removed]",
      "text/plain": [
       "<Figure size 432x288 with 1 Axes>"
      ]
     },
     "metadata": {
      "needs_background": "light"
     },
     "output_type": "display_data"
    }
   ],
   "source": [
    "f, ax = plt.subplots()\n",
    "ax.errorbar(angles, np.mean(na_outcomes, axis=0), yerr=np.std(na_outcomes, axis=0), fmt='o', label='matter field')\n",
    "ax.errorbar(angles, np.mean(li_outcomes, axis=0), yerr=np.std(li_outcomes, axis=0), fmt='o', label='gauge field')\n",
    "\n",
    "ax.set_ylabel(r'$\\eta$')\n",
    "ax.set_xlabel(r'$\\varphi$')\n",
    "ax.legend()"
   ]
  },
  {
   "cell_type": "markdown",
   "id": "411e148c-b784-4485-9172-bbefb3e90691",
   "metadata": {},
   "source": [
    "# Dynamics \n",
    "\n",
    "The preparation of the matter field is not the only thing, we also have to let the system evolve under the appropiate Hamiltonian."
   ]
  },
  {
   "cell_type": "code",
   "execution_count": 26,
   "id": "4f9a1000-b099-4a72-8f9d-f89d8017fedf",
   "metadata": {},
   "outputs": [],
   "source": [
    "Delta = -2*np.pi*500;\n",
    "chiT = 2.*np.pi*0.01*300e3;\n",
    "lamT = 2.*np.pi*2e-4*300e3;#lamT = 2.*np.pi*2e-5*300e3;"
   ]
  },
  {
   "cell_type": "code",
   "execution_count": 27,
   "id": "ed6ab33f-cd40-4b3d-9073-043658d57f91",
   "metadata": {},
   "outputs": [],
   "source": [
    "NNa = 10; # number of atoms in sodium\n",
    "NLi = 1; # number of atoms in lithium\n",
    "\n",
    "# initial rotation of the matter field\n",
    "alpha = np.pi/2;\n",
    "chi = chiT/NNa;\n",
    "lam = lamT/NNa;"
   ]
  },
  {
   "cell_type": "code",
   "execution_count": 36,
   "id": "c37d6396-4c37-415a-908c-3227ce95a03a",
   "metadata": {},
   "outputs": [],
   "source": [
    "import numpy as np\n",
    "\n",
    "time = Parameter(\"time\")\n",
    "#time = 1e-3;\n",
    "\n",
    "alpha = np.pi/2;\n",
    "\n",
    "qc = QuantumCircuit(2)\n",
    "qc.load_spins(NNa, 0)\n",
    "qc.load_spins(NLi, 1)\n",
    "\n",
    "qc.rlx(alpha, [0])\n",
    "qc.rlz2(chi*time, [0])\n",
    "qc.rlz(Delta*time, [1])\n",
    "qc.rlxly(lam*time, [0, 1])\n",
    "qc.measure_all()"
   ]
  },
  {
   "cell_type": "code",
   "execution_count": 37,
   "id": "f598d4e1-91c6-4718-bc40-31eebdbc162d",
   "metadata": {},
   "outputs": [
    {
     "data": {
      "image/png": "[encoded data removed]",
      "text/plain": [
       "<Figure size 718.879x204.68 with 1 Axes>"
      ]
     },
     "execution_count": 37,
     "metadata": {},
     "output_type": "execute_result"
    }
   ],
   "source": [
    "qc.draw('mpl')"
   ]
  },
  {
   "cell_type": "code",
   "execution_count": 71,
   "id": "78839cb7-31dd-41df-b3c2-3c1f46ec8ef1",
   "metadata": {},
   "outputs": [],
   "source": [
    "Ntimes = 10;\n",
    "tlin = np.linspace(0,30,Ntimes)*1e-3;\n",
    "job_list = []\n",
    "for ii in range(Ntimes):\n",
    "    time = tlin[ii];\n",
    "    alpha = np.pi/2;\n",
    "    \n",
    "    qc = QuantumCircuit(2)\n",
    "    qc.load_spins(NNa, 0)\n",
    "    qc.load_spins(NLi, 1)\n",
    "    qc.rlx(alpha, [0])\n",
    "\n",
    "    qc.barrier()\n",
    "    qc.rlz2(chi*time%2*np.pi, [0])\n",
    "    qc.rlz(Delta*time%2*np.pi, [1])\n",
    "    qc.rlxly(lam*time, [0, 1])\n",
    "    qc.measure_all()\n",
    "    job_list.append(qc)\n",
    "\n",
    "job_dynamics = spin_device_backend.run(job_list, shots = Nshots)"
   ]
  },
  {
   "cell_type": "code",
   "execution_count": 72,
   "id": "72551aa8-0b28-4b6b-b5e9-5d2002b9a22e",
   "metadata": {},
   "outputs": [
    {
     "data": {
      "text/plain": [
       "'20211221_100129-multiqudit-fnj-3628f'"
      ]
     },
     "execution_count": 72,
     "metadata": {},
     "output_type": "execute_result"
    }
   ],
   "source": [
    "job_dynamics.job_id()"
   ]
  },
  {
   "cell_type": "code",
   "execution_count": 74,
   "id": "65c6472d-b1ac-49e8-8089-d2323236bb62",
   "metadata": {},
   "outputs": [
    {
     "name": "stdout",
     "output_type": "stream",
     "text": [
      "job status:  JobStatus.INITIALIZING\n"
     ]
    }
   ],
   "source": [
    "job_retrieved = spin_device_backend.retrieve_job(job_id=job_dynamics.job_id())\n",
    "\n",
    "print(\"job status: \", job_retrieved.status())"
   ]
  },
  {
   "cell_type": "code",
   "execution_count": 75,
   "id": "1f9b458b-78d4-40d2-a542-fd2cf1c334ed",
   "metadata": {},
   "outputs": [
    {
     "ename": "KeyboardInterrupt",
     "evalue": "",
     "output_type": "error",
     "traceback": [
      "\u001b[0;31m---------------------------------------------------------------------------\u001b[0m",
      "\u001b[0;31mKeyboardInterrupt\u001b[0m                         Traceback (most recent call last)",
      "\u001b[0;32m/var/folders/43/kdr803yn1rn0wmfhldfxhx_40000gn/T/ipykernel_49843/1492022418.py\u001b[0m in \u001b[0;36m<module>\u001b[0;34m\u001b[0m\n\u001b[0;32m----> 1\u001b[0;31m \u001b[0mresult_dynamics\u001b[0m \u001b[0;34m=\u001b[0m \u001b[0mjob_retrieved\u001b[0m\u001b[0;34m.\u001b[0m\u001b[0mresult\u001b[0m\u001b[0;34m(\u001b[0m\u001b[0;34m)\u001b[0m\u001b[0;34m\u001b[0m\u001b[0;34m\u001b[0m\u001b[0m\n\u001b[0m",
      "\u001b[0;32m~/Documents/GitHub/qiskit-cold-atom/qiskit_cold_atom/providers/cold_atom_job.py\u001b[0m in \u001b[0;36mresult\u001b[0;34m(self, timeout, wait)\u001b[0m\n\u001b[1;32m     92\u001b[0m             \u001b[0mqiskit\u001b[0m\u001b[0;34m.\u001b[0m\u001b[0mresult\u001b[0m \u001b[0mobject\u001b[0m \u001b[0mthat\u001b[0m \u001b[0mcontains\u001b[0m \u001b[0mthe\u001b[0m \u001b[0moutcome\u001b[0m \u001b[0mof\u001b[0m \u001b[0mthe\u001b[0m \u001b[0mjob\u001b[0m\u001b[0;34m\u001b[0m\u001b[0;34m\u001b[0m\u001b[0m\n\u001b[1;32m     93\u001b[0m         \"\"\"\n\u001b[0;32m---> 94\u001b[0;31m         \u001b[0mresult_dict\u001b[0m \u001b[0;34m=\u001b[0m \u001b[0mself\u001b[0m\u001b[0;34m.\u001b[0m\u001b[0m_wait_for_result\u001b[0m\u001b[0;34m(\u001b[0m\u001b[0mtimeout\u001b[0m\u001b[0;34m,\u001b[0m \u001b[0mwait\u001b[0m\u001b[0;34m=\u001b[0m\u001b[0mwait\u001b[0m\u001b[0;34m)\u001b[0m\u001b[0;34m\u001b[0m\u001b[0;34m\u001b[0m\u001b[0m\n\u001b[0m\u001b[1;32m     95\u001b[0m \u001b[0;34m\u001b[0m\u001b[0m\n\u001b[1;32m     96\u001b[0m         \u001b[0;32mreturn\u001b[0m \u001b[0mResult\u001b[0m\u001b[0;34m.\u001b[0m\u001b[0mfrom_dict\u001b[0m\u001b[0;34m(\u001b[0m\u001b[0mresult_dict\u001b[0m\u001b[0;34m)\u001b[0m\u001b[0;34m\u001b[0m\u001b[0;34m\u001b[0m\u001b[0m\n",
      "\u001b[0;32m~/Documents/GitHub/qiskit-cold-atom/qiskit_cold_atom/providers/cold_atom_job.py\u001b[0m in \u001b[0;36m_wait_for_result\u001b[0;34m(self, timeout, wait)\u001b[0m\n\u001b[1;32m     76\u001b[0m             \u001b[0;32mif\u001b[0m \u001b[0mresult\u001b[0m\u001b[0;34m[\u001b[0m\u001b[0;34m\"status\"\u001b[0m\u001b[0;34m]\u001b[0m \u001b[0;34m==\u001b[0m \u001b[0;34m\"error\"\u001b[0m\u001b[0;34m:\u001b[0m\u001b[0;34m\u001b[0m\u001b[0;34m\u001b[0m\u001b[0m\n\u001b[1;32m     77\u001b[0m                 \u001b[0;32mraise\u001b[0m \u001b[0mJobError\u001b[0m\u001b[0;34m(\u001b[0m\u001b[0;34mf\"{self._backend.name} returned error:\\n\"\u001b[0m \u001b[0;34m+\u001b[0m \u001b[0mstr\u001b[0m\u001b[0;34m(\u001b[0m\u001b[0mresult\u001b[0m\u001b[0;34m)\u001b[0m\u001b[0;34m)\u001b[0m\u001b[0;34m\u001b[0m\u001b[0;34m\u001b[0m\u001b[0m\n\u001b[0;32m---> 78\u001b[0;31m             \u001b[0mtime\u001b[0m\u001b[0;34m.\u001b[0m\u001b[0msleep\u001b[0m\u001b[0;34m(\u001b[0m\u001b[0mwait\u001b[0m\u001b[0;34m)\u001b[0m\u001b[0;34m\u001b[0m\u001b[0;34m\u001b[0m\u001b[0m\n\u001b[0m\u001b[1;32m     79\u001b[0m \u001b[0;34m\u001b[0m\u001b[0m\n\u001b[1;32m     80\u001b[0m         \u001b[0;32mreturn\u001b[0m \u001b[0mresult\u001b[0m\u001b[0;34m\u001b[0m\u001b[0;34m\u001b[0m\u001b[0m\n",
      "\u001b[0;31mKeyboardInterrupt\u001b[0m: "
     ]
    }
   ],
   "source": [
    "result_dynamics = job_retrieved.result()"
   ]
  },
  {
   "cell_type": "code",
   "execution_count": null,
   "id": "09fcc245-ef1a-4d5f-8765-c84e74684274",
   "metadata": {},
   "outputs": [],
   "source": [
    "na_outcomes = np.zeros((Nshots,Ntimes))\n",
    "li_outcomes = np.zeros((Nshots,Ntimes))\n",
    "\n",
    "for ii in range(Ntimes):\n",
    "    res_array = result_dynamics.get_memory(ii)\n",
    "    for jj in range(Nshots):\n",
    "        li_outcomes[jj,ii], na_outcomes[jj,ii]  = np.array(res_array[jj].split(' '), dtype=int)"
   ]
  },
  {
   "cell_type": "code",
   "execution_count": null,
   "id": "40abf76e-64a6-4781-87b4-aa88b6453b46",
   "metadata": {},
   "outputs": [],
   "source": [
    "f, ax = plt.subplots()\n",
    "ax.errorbar(tlin*1e3, np.mean(na_outcomes, axis=0), yerr=np.std(na_outcomes, axis=0), fmt='o', label='matter field')\n",
    "ax.errorbar(tlin*1e3, np.mean(li_outcomes, axis=0), yerr=np.std(li_outcomes, axis=0), fmt='o', label='gauge field')\n",
    "\n",
    "ax.set_ylabel(r'$\\eta$')\n",
    "ax.set_xlabel(r'time (ms)')\n",
    "ax.legend()"
   ]
  },
  {
   "cell_type": "markdown",
   "id": "f7f0313a-7d2a-4a89-a191-7abc6e941b99",
   "metadata": {},
   "source": [
    "### debugging"
   ]
  },
  {
   "cell_type": "code",
   "execution_count": 51,
   "id": "a4e60d1d-1e61-4093-8d95-07802999c51d",
   "metadata": {},
   "outputs": [],
   "source": [
    "import requests\n",
    "import json"
   ]
  },
  {
   "cell_type": "code",
   "execution_count": null,
   "id": "5fc7610c-978e-4489-a87f-794d4310517f",
   "metadata": {},
   "outputs": [],
   "source": [
    "job_rabi.job_id()"
   ]
  },
  {
   "cell_type": "code",
   "execution_count": 49,
   "id": "4c5349c6-ade7-4446-8cc8-89f139e90de3",
   "metadata": {},
   "outputs": [
    {
     "data": {
      "text/plain": [
       "<qiskit_cold_atom.providers.cold_atom_job.ColdAtomJob at 0x7f88d13b2e50>"
      ]
     },
     "execution_count": 49,
     "metadata": {},
     "output_type": "execute_result"
    }
   ],
   "source": [
    "job_retrieved"
   ]
  },
  {
   "cell_type": "code",
   "execution_count": null,
   "id": "4e720aab-423c-4cf7-9f0b-231e0aaa5c39",
   "metadata": {},
   "outputs": [],
   "source": [
    "job_retrieved.error_message()"
   ]
  },
  {
   "cell_type": "code",
   "execution_count": 52,
   "id": "7220652c-6030-490b-9b39-8ac588d3d115",
   "metadata": {},
   "outputs": [],
   "source": [
    "status_payload = {\"job_id\": job_dynamics.job_id()}\n",
    "\n",
    "r = requests.get(\n",
    "            \"https://qsimsim.synqs.org/multiqudit/get_job_status/\",\n",
    "            params={\n",
    "                \"json\": json.dumps(status_payload),\n",
    "                \"username\": job_rabi.user,\n",
    "                \"password\": job_rabi.token,\n",
    "            },\n",
    "        )"
   ]
  },
  {
   "cell_type": "code",
   "execution_count": 53,
   "id": "c15b9177-06be-4f16-a87a-d16ccef4fd3b",
   "metadata": {},
   "outputs": [
    {
     "name": "stdout",
     "output_type": "stream",
     "text": [
      "b'{\"job_id\": \"20211221_094952-multiqudit-fnj-0baa0\", \"status\": \"ERROR\", \"detail\": \"Got your json.; Failed json sanity check. File will be deleted. Error message : Wrong experiment name or too many experiments\", \"error_message\": \"None; Failed json sanity check. File will be deleted. Error message : Wrong experiment name or too many experiments\"}'\n"
     ]
    }
   ],
   "source": [
    "print(r.content)"
   ]
  },
  {
   "cell_type": "code",
   "execution_count": null,
   "id": "fe89cdfe-aced-4dd7-8f12-10df74135338",
   "metadata": {},
   "outputs": [],
   "source": []
  }
 ],
 "metadata": {
  "kernelspec": {
   "display_name": "Python 3 (ipykernel)",
   "language": "python",
   "name": "python3"
  },
  "language_info": {
   "codemirror_mode": {
    "name": "ipython",
    "version": 3
   },
   "file_extension": ".py",
   "mimetype": "text/x-python",
   "name": "python",
   "nbconvert_exporter": "python",
   "pygments_lexer": "ipython3",
   "version": "3.8.5"
  }
 },
 "nbformat": 4,
 "nbformat_minor": 5
}
